{
  "nbformat": 4,
  "nbformat_minor": 0,
  "metadata": {
    "colab": {
      "name": "CA06",
      "provenance": []
    },
    "kernelspec": {
      "name": "python3",
      "display_name": "Python 3"
    },
    "language_info": {
      "name": "python"
    }
  },
  "cells": [
    {
      "cell_type": "code",
      "metadata": {
        "id": "6OUqKS2RXo5v"
      },
      "source": [
        "#import the necessary packages\n",
        "import pandas as pd\n",
        "import numpy as np\n",
        "from sklearn.neighbors import NearestNeighbors"
      ],
      "execution_count": 50,
      "outputs": []
    },
    {
      "cell_type": "code",
      "metadata": {
        "id": "04NP0qY4YHSq"
      },
      "source": [
        "#read our data into a dataframe\n",
        "df = pd.read_csv('https://github.com/ArinB/CA05-kNN/raw/master/movies_recommendation_data.csv')"
      ],
      "execution_count": 51,
      "outputs": []
    },
    {
      "cell_type": "code",
      "metadata": {
        "id": "bR3lq90gYO69"
      },
      "source": [
        "#drop unusable column\n",
        "df.drop('Label',axis=1, inplace=True)"
      ],
      "execution_count": 52,
      "outputs": []
    },
    {
      "cell_type": "code",
      "metadata": {
        "id": "LvdAxqpScWm-"
      },
      "source": [
        "#look at our data to ensure no corruptions have occured\n",
        "df"
      ],
      "execution_count": null,
      "outputs": []
    },
    {
      "cell_type": "code",
      "metadata": {
        "id": "tf0X536xhoxW"
      },
      "source": [
        "#define our features\n",
        "features = ['IMDB Rating', 'Biography', 'Comedy', 'Crime', 'Drama', 'History', 'Mystery', 'Thriller']"
      ],
      "execution_count": 53,
      "outputs": []
    },
    {
      "cell_type": "code",
      "metadata": {
        "id": "jGspEx1IfKNR"
      },
      "source": [
        "#create a dataframe with only our features\n",
        "df_movie_features = df[features]"
      ],
      "execution_count": 54,
      "outputs": []
    },
    {
      "cell_type": "code",
      "metadata": {
        "id": "vPr6W6kmGs9O"
      },
      "source": [
        "#define an array with our testing sample in it\n",
        "the_post = [7.2, 1, 1, 0, 0, 0, 0, 1]\n",
        "the_post = np.reshape(the_post, (-1,1)).T"
      ],
      "execution_count": 55,
      "outputs": []
    },
    {
      "cell_type": "code",
      "metadata": {
        "id": "vV5WSgp1H6Fk"
      },
      "source": [
        "#create a knn model\n",
        "K_nearest = NearestNeighbors(n_neighbors = 5)\n",
        "#fit the model to our features column\n",
        "K_nearest.fit(df_movie_features)\n",
        "#get the nearest neighbors for our test data\n",
        "movie_recs = K_nearest.kneighbors(the_post)"
      ],
      "execution_count": 56,
      "outputs": []
    },
    {
      "cell_type": "code",
      "metadata": {
        "colab": {
          "base_uri": "https://localhost:8080/"
        },
        "id": "M1BtPuX1Iaub",
        "outputId": "c58006ef-10f3-4b5c-9c43-7749e38256dc"
      },
      "source": [
        "#looking at our result we can see it has returned the distances and index number for the nearst neighbors\n",
        "movie_recs"
      ],
      "execution_count": 59,
      "outputs": [
        {
          "output_type": "execute_result",
          "data": {
            "text/plain": [
              "(array([[1.57797338, 1.62480768, 1.73205081, 1.73205081, 1.73493516]]),\n",
              " array([[25,  0, 13, 23, 19]]))"
            ]
          },
          "metadata": {
            "tags": []
          },
          "execution_count": 59
        }
      ]
    },
    {
      "cell_type": "code",
      "metadata": {
        "colab": {
          "base_uri": "https://localhost:8080/"
        },
        "id": "65thMUmsIhZK",
        "outputId": "7587739f-baa6-45ad-e561-b7984e344bce"
      },
      "source": [
        "#run a loop to return the movie info for the relevant index numbers\n",
        "for x in movie_recs[1]:\n",
        "  movie_name = df.iloc[x,1:3]\n",
        "  print('You might like:')\n",
        "  print(movie_name)"
      ],
      "execution_count": 70,
      "outputs": [
        {
          "output_type": "stream",
          "text": [
            "You might like:\n",
            "                 Movie Name  IMDB Rating\n",
            "25           Thor: Ragnarok          7.9\n",
            "0        The Imitation Game          8.0\n",
            "13  The Wolf of Wall Street          8.2\n",
            "23           21 Jump Street          7.2\n",
            "19             The Fountain          7.3\n"
          ],
          "name": "stdout"
        }
      ]
    }
  ]
}